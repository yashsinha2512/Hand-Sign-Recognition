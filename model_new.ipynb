{
 "cells": [
  {
   "cell_type": "code",
   "execution_count": 10,
   "id": "2ae07958",
   "metadata": {},
   "outputs": [],
   "source": [
    "import os\n",
    "import numpy as np\n",
    "import tensorflow as tf\n",
    "from tensorflow.keras.preprocessing.image import ImageDataGenerator\n",
    "from tensorflow.keras.applications import VGG16\n",
    "from tensorflow.keras.layers import Dense, Flatten\n",
    "from tensorflow.keras.models import Model\n"
   ]
  },
  {
   "cell_type": "code",
   "execution_count": 11,
   "id": "13a31036",
   "metadata": {},
   "outputs": [],
   "source": [
    "data_dir = \"data\"\n",
    "labels_file = \"labels.txt\"\n",
    "input_shape = (224, 224, 3)  # VGG16 input shape\n",
    "batch_size = 32\n",
    "num_classes = len(os.listdir(data_dir))"
   ]
  },
  {
   "cell_type": "code",
   "execution_count": 3,
   "id": "6b7e7fc5",
   "metadata": {},
   "outputs": [],
   "source": [
    "with open(labels_file, 'r') as file:\n",
    "    labels_mapping = {line.split('.')[0]: line.strip().split('.')[1].strip() for line in file}\n"
   ]
  },
  {
   "cell_type": "code",
   "execution_count": 13,
   "id": "1a8efe6a",
   "metadata": {},
   "outputs": [],
   "source": [
    "train_datagen = ImageDataGenerator(\n",
    "    rescale=1./255,\n",
    "    shear_range=0.2,\n",
    "    zoom_range=0.2,\n",
    "    horizontal_flip=True\n",
    ")"
   ]
  },
  {
   "cell_type": "code",
   "execution_count": 14,
   "id": "c271df43",
   "metadata": {},
   "outputs": [
    {
     "name": "stdout",
     "output_type": "stream",
     "text": [
      "Found 120 images belonging to 3 classes.\n"
     ]
    }
   ],
   "source": [
    "train_generator = train_datagen.flow_from_directory(\n",
    "    data_dir,\n",
    "    target_size=(input_shape[0], input_shape[1]),\n",
    "    batch_size=batch_size,\n",
    "    class_mode='categorical',\n",
    "    classes=list(labels_mapping.keys())\n",
    ")\n"
   ]
  },
  {
   "cell_type": "code",
   "execution_count": 15,
   "id": "baa59430",
   "metadata": {},
   "outputs": [
    {
     "name": "stdout",
     "output_type": "stream",
     "text": [
      "Downloading data from https://storage.googleapis.com/tensorflow/keras-applications/vgg16/vgg16_weights_tf_dim_ordering_tf_kernels_notop.h5\n",
      "58889256/58889256 [==============================] - 23s 0us/step\n"
     ]
    }
   ],
   "source": [
    "base_model = VGG16(weights='imagenet', include_top=False, input_shape=input_shape)"
   ]
  },
  {
   "cell_type": "code",
   "execution_count": 16,
   "id": "f5162a11",
   "metadata": {},
   "outputs": [],
   "source": [
    "for layer in base_model.layers:\n",
    "    layer.trainable = False\n"
   ]
  },
  {
   "cell_type": "code",
   "execution_count": 17,
   "id": "dcfe664c",
   "metadata": {},
   "outputs": [],
   "source": [
    "x = Flatten()(base_model.output)\n",
    "x = Dense(256, activation='relu')(x)\n",
    "predictions = Dense(num_classes, activation='softmax')(x)\n"
   ]
  },
  {
   "cell_type": "code",
   "execution_count": 19,
   "id": "de354e88",
   "metadata": {},
   "outputs": [],
   "source": [
    "model = Model(inputs=base_model.input, outputs=predictions)"
   ]
  },
  {
   "cell_type": "code",
   "execution_count": 20,
   "id": "a805dd8a",
   "metadata": {},
   "outputs": [],
   "source": [
    "model.compile(optimizer='adam',\n",
    "              loss='categorical_crossentropy',\n",
    "              metrics=['accuracy'])"
   ]
  },
  {
   "cell_type": "code",
   "execution_count": 21,
   "id": "30214bf1",
   "metadata": {},
   "outputs": [
    {
     "name": "stdout",
     "output_type": "stream",
     "text": [
      "Epoch 1/10\n",
      "4/4 [==============================] - 32s 7s/step - loss: 4.2337 - accuracy: 0.4500\n",
      "Epoch 2/10\n",
      "4/4 [==============================] - 29s 7s/step - loss: 0.4961 - accuracy: 0.8333\n",
      "Epoch 3/10\n",
      "4/4 [==============================] - 28s 7s/step - loss: 0.1564 - accuracy: 0.9333\n",
      "Epoch 4/10\n",
      "4/4 [==============================] - 29s 7s/step - loss: 0.1880 - accuracy: 0.9583\n",
      "Epoch 5/10\n",
      "4/4 [==============================] - 29s 7s/step - loss: 0.2088 - accuracy: 0.9583\n",
      "Epoch 6/10\n",
      "4/4 [==============================] - 29s 7s/step - loss: 0.0470 - accuracy: 0.9833\n",
      "Epoch 7/10\n",
      "4/4 [==============================] - 28s 7s/step - loss: 0.0056 - accuracy: 1.0000\n",
      "Epoch 8/10\n",
      "4/4 [==============================] - 29s 7s/step - loss: 0.0150 - accuracy: 0.9917\n",
      "Epoch 9/10\n",
      "4/4 [==============================] - 29s 7s/step - loss: 0.0038 - accuracy: 1.0000\n",
      "Epoch 10/10\n",
      "4/4 [==============================] - 30s 7s/step - loss: 0.0017 - accuracy: 1.0000\n"
     ]
    },
    {
     "data": {
      "text/plain": [
       "<keras.src.callbacks.History at 0x1bc86926a50>"
      ]
     },
     "execution_count": 21,
     "metadata": {},
     "output_type": "execute_result"
    }
   ],
   "source": [
    "model.fit(train_generator, epochs=10)"
   ]
  }
 ],
 "metadata": {
  "kernelspec": {
   "display_name": "Python 3 (ipykernel)",
   "language": "python",
   "name": "python3"
  },
  "language_info": {
   "codemirror_mode": {
    "name": "ipython",
    "version": 3
   },
   "file_extension": ".py",
   "mimetype": "text/x-python",
   "name": "python",
   "nbconvert_exporter": "python",
   "pygments_lexer": "ipython3",
   "version": "3.11.3"
  }
 },
 "nbformat": 4,
 "nbformat_minor": 5
}
